{
 "cells": [
  {
   "cell_type": "code",
   "execution_count": 38,
   "metadata": {},
   "outputs": [],
   "source": [
    "# !pip install textblob\n",
    "# !pip install wordcloud\n",
    "import pandas as pd\n",
    "import numpy as np\n",
    "import sklearn\n",
    "import seaborn as sns\n",
    "import matplotlib.pyplot as plt\n",
    "from textblob import TextBlob\n",
    "from IPython.display import Markdown, display\n",
    "import os\n",
    "import random\n",
    "from tqdm import tqdm\n",
    "from collections import defaultdict\n",
    "\n",
    "from nltk.tokenize import word_tokenize\n",
    "from nltk import pos_tag\n",
    "from nltk.corpus import stopwords\n",
    "from nltk.stem import WordNetLemmatizer\n",
    "from sklearn.preprocessing import LabelEncoder\n",
    "from collections import defaultdict\n",
    "from nltk.corpus import wordnet as wn\n",
    "from sklearn.feature_extraction.text import TfidfVectorizer\n",
    "from sklearn import model_selection, naive_bayes, svm\n",
    "from sklearn.metrics import accuracy_score\n",
    "from sklearn.neighbors import KNeighborsClassifier\n",
    "from sklearn.model_selection import GridSearchCV\n",
    "\n",
    "%matplotlib inline"
   ]
  },
  {
   "cell_type": "code",
   "execution_count": 4,
   "metadata": {},
   "outputs": [],
   "source": [
    "data_final = pd.read_csv(\"preprocessed-file.csv\")"
   ]
  },
  {
   "cell_type": "code",
   "execution_count": 29,
   "metadata": {},
   "outputs": [
    {
     "data": {
      "text/plain": [
       "(16992, 3)"
      ]
     },
     "execution_count": 29,
     "metadata": {},
     "output_type": "execute_result"
    }
   ],
   "source": [
    "data_final.shape"
   ]
  },
  {
   "cell_type": "code",
   "execution_count": 5,
   "metadata": {},
   "outputs": [],
   "source": [
    "np.random.seed(50)"
   ]
  },
  {
   "cell_type": "code",
   "execution_count": 24,
   "metadata": {},
   "outputs": [
    {
     "data": {
      "text/html": [
       "<div>\n",
       "<style scoped>\n",
       "    .dataframe tbody tr th:only-of-type {\n",
       "        vertical-align: middle;\n",
       "    }\n",
       "\n",
       "    .dataframe tbody tr th {\n",
       "        vertical-align: top;\n",
       "    }\n",
       "\n",
       "    .dataframe thead th {\n",
       "        text-align: right;\n",
       "    }\n",
       "</style>\n",
       "<table border=\"1\" class=\"dataframe\">\n",
       "  <thead>\n",
       "    <tr style=\"text-align: right;\">\n",
       "      <th></th>\n",
       "      <th>tweet_text</th>\n",
       "      <th>tag</th>\n",
       "      <th>text_final</th>\n",
       "    </tr>\n",
       "  </thead>\n",
       "  <tbody>\n",
       "    <tr>\n",
       "      <th>0</th>\n",
       "      <td>['am', 'i', 'mentally', 'ill', 'or', 'is', 'we...</td>\n",
       "      <td>-1</td>\n",
       "      <td>['mentally', 'ill', 'wear', 'hair', 'tie', 'or...</td>\n",
       "    </tr>\n",
       "    <tr>\n",
       "      <th>1</th>\n",
       "      <td>['bath', 'salts', 'are', 'used', 'to', 'treat'...</td>\n",
       "      <td>-1</td>\n",
       "      <td>['bath', 'salt', 'use', 'treat', 'mental', 'ph...</td>\n",
       "    </tr>\n",
       "    <tr>\n",
       "      <th>2</th>\n",
       "      <td>['insomnia', 'and', 'anxiety', 'really', 'pull...</td>\n",
       "      <td>-1</td>\n",
       "      <td>['insomnia', 'anxiety', 'really', 'pull', 'bea...</td>\n",
       "    </tr>\n",
       "    <tr>\n",
       "      <th>3</th>\n",
       "      <td>['hab', 'leider', 'n', 'social', 'anxiety']</td>\n",
       "      <td>-1</td>\n",
       "      <td>['hab', 'leider', 'n', 'social', 'anxiety']</td>\n",
       "    </tr>\n",
       "    <tr>\n",
       "      <th>4</th>\n",
       "      <td>['i', 'go', 'to', 'the', 'tip', 'yesterday', '...</td>\n",
       "      <td>-1</td>\n",
       "      <td>['go', 'tip', 'yesterday', 'jolly', 'ikea', 'g...</td>\n",
       "    </tr>\n",
       "  </tbody>\n",
       "</table>\n",
       "</div>"
      ],
      "text/plain": [
       "                                          tweet_text  tag  \\\n",
       "0  ['am', 'i', 'mentally', 'ill', 'or', 'is', 'we...   -1   \n",
       "1  ['bath', 'salts', 'are', 'used', 'to', 'treat'...   -1   \n",
       "2  ['insomnia', 'and', 'anxiety', 'really', 'pull...   -1   \n",
       "3        ['hab', 'leider', 'n', 'social', 'anxiety']   -1   \n",
       "4  ['i', 'go', 'to', 'the', 'tip', 'yesterday', '...   -1   \n",
       "\n",
       "                                          text_final  \n",
       "0  ['mentally', 'ill', 'wear', 'hair', 'tie', 'or...  \n",
       "1  ['bath', 'salt', 'use', 'treat', 'mental', 'ph...  \n",
       "2  ['insomnia', 'anxiety', 'really', 'pull', 'bea...  \n",
       "3        ['hab', 'leider', 'n', 'social', 'anxiety']  \n",
       "4  ['go', 'tip', 'yesterday', 'jolly', 'ikea', 'g...  "
      ]
     },
     "execution_count": 24,
     "metadata": {},
     "output_type": "execute_result"
    }
   ],
   "source": [
    "data_final.head()"
   ]
  },
  {
   "cell_type": "markdown",
   "metadata": {},
   "source": [
    "# **Tf-idf**"
   ]
  },
  {
   "cell_type": "code",
   "execution_count": 61,
   "metadata": {},
   "outputs": [],
   "source": [
    "\n",
    "\n",
    "X = data_final['text_final']\n",
    "Y = data_final['tag']\n",
    "Tfidf_vect = TfidfVectorizer(max_features=5000)\n",
    "Tfidf_vect.fit(X)\n",
    "X = Tfidf_vect.transform(X)\n",
    "\n",
    "Encoder = LabelEncoder()\n",
    "Y = Encoder.fit_transform(Y)"
   ]
  },
  {
   "cell_type": "markdown",
   "metadata": {},
   "source": [
    "###  **1 . K Fold Naive Bayes**"
   ]
  },
  {
   "cell_type": "code",
   "execution_count": 62,
   "metadata": {},
   "outputs": [
    {
     "name": "stdout",
     "output_type": "stream",
     "text": [
      "Accuracy: 81.020 (0.008)\n"
     ]
    }
   ],
   "source": [
    "# evaluate a Naive Bayes model using k-fold cross-validation\n",
    "from numpy import mean\n",
    "from numpy import std\n",
    "from sklearn.datasets import make_classification\n",
    "from sklearn.model_selection import KFold\n",
    "from sklearn.model_selection import cross_val_score\n",
    "\n",
    "# prepare the cross-validation procedure\n",
    "cv = KFold(n_splits=10, random_state=1, shuffle=True)\n",
    "\n",
    "naive_model = naive_bayes.MultinomialNB()\n",
    "# evaluate model\n",
    "scores = cross_val_score(model, X, Y, scoring='accuracy', cv=cv, n_jobs=-1)\n",
    "\n",
    "# report performance\n",
    "print('Accuracy: %.3f (%.3f)' % (mean(scores)*100, std(scores)))"
   ]
  },
  {
   "cell_type": "markdown",
   "metadata": {},
   "source": [
    "### **2. K Fold SVM**"
   ]
  },
  {
   "cell_type": "code",
   "execution_count": 63,
   "metadata": {},
   "outputs": [
    {
     "name": "stdout",
     "output_type": "stream",
     "text": [
      "Accuracy: 81.020 (0.008)\n"
     ]
    }
   ],
   "source": [
    "# evaluate a SVM model using k-fold cross-validation\n",
    "from numpy import mean\n",
    "from numpy import std\n",
    "from sklearn.datasets import make_classification\n",
    "from sklearn.model_selection import KFold\n",
    "from sklearn.model_selection import cross_val_score\n",
    "\n",
    "# prepare the cross-validation procedure\n",
    "cv = KFold(n_splits=10, random_state=1, shuffle=True)\n",
    "\n",
    "svm_model = svm.SVC(C=1.0, kernel='linear', degree=3, gamma='auto')\n",
    "# evaluate model\n",
    "scores = cross_val_score(model, X, Y, scoring='accuracy', cv=cv, n_jobs=-1)\n",
    "\n",
    "# report performance\n",
    "print('Accuracy: %.3f (%.3f)' % (mean(scores)*100, std(scores)))"
   ]
  },
  {
   "cell_type": "markdown",
   "metadata": {},
   "source": [
    "### **3. KNN**"
   ]
  },
  {
   "cell_type": "code",
   "execution_count": 32,
   "metadata": {},
   "outputs": [],
   "source": [
    "Train_X, Test_X, Train_Y, Test_Y = model_selection.train_test_split(data_final['text_final'],data_final['tag'],test_size=0.3)"
   ]
  },
  {
   "cell_type": "code",
   "execution_count": 33,
   "metadata": {},
   "outputs": [],
   "source": [
    "Encoder = LabelEncoder()\n",
    "Train_Y = Encoder.fit_transform(Train_Y)\n",
    "Test_Y = Encoder.fit_transform(Test_Y)"
   ]
  },
  {
   "cell_type": "code",
   "execution_count": 34,
   "metadata": {},
   "outputs": [],
   "source": [
    "Tfidf_vect = TfidfVectorizer(max_features=5000)\n",
    "Tfidf_vect.fit(data_final['text_final'])\n",
    "Train_X_Tfidf = Tfidf_vect.transform(Train_X)\n",
    "Test_X_Tfidf = Tfidf_vect.transform(Test_X)"
   ]
  },
  {
   "cell_type": "code",
   "execution_count": 57,
   "metadata": {},
   "outputs": [
    {
     "name": "stdout",
     "output_type": "stream",
     "text": [
      "{'n_neighbors': 4}\n"
     ]
    }
   ],
   "source": [
    "knn = KNeighborsClassifier()\n",
    "#use gridsearch to test all values for n_neighbors\n",
    "params_knn = {\"n_neighbors\": np.arange(1, 25)}\n",
    "\n",
    "knn = GridSearchCV(knn, params_knn, cv=5)#fit model to training data\n",
    "\n",
    "# fit the model\n",
    "knn.fit(Train_X_Tfidf, Train_Y)\n",
    "\n",
    "#save best model\n",
    "knn_best = knn.best_estimator_#check best n_neigbors value\n",
    "print(knn.best_params_)\n",
    "\n"
   ]
  },
  {
   "cell_type": "code",
   "execution_count": 51,
   "metadata": {},
   "outputs": [
    {
     "name": "stdout",
     "output_type": "stream",
     "text": [
      "Train_data Accuracy: 74.02\n",
      "Test_data Accuracy: 55.51\n"
     ]
    }
   ],
   "source": [
    "# Accuracy Score\n",
    "\n",
    "knn = KNeighborsClassifier(n_neighbors = 4)\n",
    "knn.fit(Train_X_Tfidf, Train_Y)\n",
    "accuracy_train = accuracy_score(Train_Y, knn.predict(Train_X_Tfidf))\n",
    "accuracy_test = accuracy_score(Test_Y, knn.predict(Test_X_Tfidf))\n",
    "\n",
    "print ('Train_data Accuracy: %.2f' %(accuracy_train*100))\n",
    "print ('Test_data Accuracy: %.2f' %(accuracy_test*100))"
   ]
  },
  {
   "cell_type": "markdown",
   "metadata": {},
   "source": [
    "### 4. **Logistic Regression**"
   ]
  },
  {
   "cell_type": "code",
   "execution_count": 54,
   "metadata": {},
   "outputs": [
    {
     "name": "stdout",
     "output_type": "stream",
     "text": [
      "log_reg: 80.87485288348371\n"
     ]
    }
   ],
   "source": [
    "from sklearn.linear_model import LogisticRegression#create a new logistic regression model\n",
    "log_reg = LogisticRegression()#fit the model to the training data\n",
    "log_reg.fit(Train_X_Tfidf, Train_Y)\n",
    "print(\"log_reg: {}\".format(log_reg.score(Test_X_Tfidf, Test_Y)*100))"
   ]
  },
  {
   "cell_type": "code",
   "execution_count": null,
   "metadata": {},
   "outputs": [],
   "source": []
  },
  {
   "cell_type": "markdown",
   "metadata": {},
   "source": [
    "## **Ensemble**"
   ]
  },
  {
   "cell_type": "code",
   "execution_count": 67,
   "metadata": {},
   "outputs": [],
   "source": [
    "from sklearn.ensemble import VotingClassifier\n",
    "\n",
    "estimators=[(\"naive_model\",naive_model),(\"log_reg\",log_reg),(\"svm_model\",svm_model)]\n",
    "ensemble = VotingClassifier(estimators, voting=\"hard\")"
   ]
  },
  {
   "cell_type": "code",
   "execution_count": 70,
   "metadata": {},
   "outputs": [
    {
     "data": {
      "text/plain": [
       "80.67869752844253"
      ]
     },
     "execution_count": 70,
     "metadata": {},
     "output_type": "execute_result"
    }
   ],
   "source": [
    "#fit model to training data\n",
    "ensemble.fit(Train_X_Tfidf , Train_Y)#test our model on the test data\n",
    "(ensemble.score(Test_X_Tfidf, Test_Y))*100"
   ]
  },
  {
   "cell_type": "code",
   "execution_count": null,
   "metadata": {},
   "outputs": [],
   "source": []
  }
 ],
 "metadata": {
  "kernelspec": {
   "display_name": "Python 3",
   "language": "python",
   "name": "python3"
  },
  "language_info": {
   "codemirror_mode": {
    "name": "ipython",
    "version": 3
   },
   "file_extension": ".py",
   "mimetype": "text/x-python",
   "name": "python",
   "nbconvert_exporter": "python",
   "pygments_lexer": "ipython3",
   "version": "3.8.8"
  }
 },
 "nbformat": 4,
 "nbformat_minor": 4
}
