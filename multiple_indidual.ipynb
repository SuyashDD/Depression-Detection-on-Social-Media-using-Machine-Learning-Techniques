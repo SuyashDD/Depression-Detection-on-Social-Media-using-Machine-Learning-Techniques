{
 "cells": [
  {
   "cell_type": "code",
   "execution_count": 7,
   "metadata": {},
   "outputs": [],
   "source": [
    "#Importing the libraries\n",
    "import numpy as np\n",
    "import matplotlib.pyplot as plt\n",
    "import pandas as pd\n",
    "from sklearn.tree import DecisionTreeClassifier\n",
    "from sklearn.linear_model import LogisticRegression\n",
    "from sklearn.svm import SVC\n",
    "from sklearn.neighbors import KNeighborsClassifier\n",
    "from sklearn.naive_bayes import GaussianNB\n",
    "from sklearn.ensemble import VotingClassifier\n",
    "from sklearn import model_selection\n",
    "from sklearn.metrics import confusion_matrix\n",
    "from sklearn. preprocessing import StandardScaler\n",
    "from sklearn.model_selection import train_test_split\n",
    "\n"
   ]
  },
  {
   "cell_type": "code",
   "execution_count": 8,
   "metadata": {},
   "outputs": [],
   "source": [
    "# !pip install textblob\n",
    "# !pip install wordcloud\n",
    "import pandas as pd\n",
    "import numpy as np\n",
    "import sklearn\n",
    "import seaborn as sns\n",
    "import matplotlib.pyplot as plt\n",
    "from textblob import TextBlob\n",
    "from IPython.display import Markdown, display\n",
    "import os\n",
    "import random\n",
    "from tqdm import tqdm\n",
    "from collections import defaultdict\n",
    "\n",
    "from nltk.tokenize import word_tokenize\n",
    "from nltk import pos_tag\n",
    "from nltk.corpus import stopwords\n",
    "from nltk.stem import WordNetLemmatizer\n",
    "from sklearn.preprocessing import LabelEncoder\n",
    "from collections import defaultdict\n",
    "from nltk.corpus import wordnet as wn\n",
    "from sklearn.feature_extraction.text import TfidfVectorizer\n",
    "from sklearn import model_selection, naive_bayes, svm\n",
    "from sklearn.metrics import accuracy_score\n",
    "from sklearn.neighbors import KNeighborsClassifier\n",
    "from sklearn.model_selection import GridSearchCV\n",
    "\n",
    "%matplotlib inline"
   ]
  },
  {
   "cell_type": "code",
   "execution_count": 9,
   "metadata": {},
   "outputs": [],
   "source": [
    "#Reading the dataset\n",
    "data = pd.read_csv(\"preprocessed-file.csv\")\n",
    "X = data['text_final']\n",
    "Y = data['tag']\n"
   ]
  },
  {
   "cell_type": "code",
   "execution_count": 14,
   "metadata": {},
   "outputs": [],
   "source": [
    "# Splitting the dataset into the Training set and Test set\n",
    "Train_X, Test_X, Train_Y, Test_Y = train_test_split(data['text_final'],data['tag'],test_size=0.3)\n",
    "\n",
    "Encoder = LabelEncoder()\n",
    "Train_Y = Encoder.fit_transform(Train_Y)\n",
    "Test_Y = Encoder.fit_transform(Test_Y)\n",
    "\n",
    "Tfidf_vect = TfidfVectorizer(max_features=5000)\n",
    "Tfidf_vect.fit(data['text_final'])\n",
    "Train_X_Tfidf = Tfidf_vect.transform(Train_X)\n",
    "Test_X_Tfidf = Tfidf_vect.transform(Test_X)\n",
    "\n",
    "\n",
    "#Defining the machine learning models\n",
    "model1 = LogisticRegression()\n",
    "model2 = DecisionTreeClassifier(max_depth = 2)\n",
    "model3 = SVC()\n",
    "model4 = KNeighborsClassifier(n_neighbors = 5, metric = 'minkowski', p = 2)\n",
    "model5 = naive_bayes.MultinomialNB()\n",
    "\n",
    "X_train = Train_X_Tfidf\n",
    "y_train = Train_Y\n",
    "X_test  = Test_X_Tfidf\n",
    "y_test = Test_Y\n",
    "\n",
    "#Training the machine learning models\n",
    "model1.fit(X_train, y_train)\n",
    "model2.fit(X_train, y_train)\n",
    "model3.fit(X_train, y_train)\n",
    "model4.fit(X_train, y_train)\n",
    "model5.fit(X_train, y_train)\n",
    "\n",
    "#Making the prediction\n",
    "y_pred1 = model1.predict(X_test)\n",
    "y_pred2 = model2.predict(X_test)\n",
    "y_pred3 = model3.predict(X_test)\n",
    "y_pred4 = model4.predict(X_test)\n",
    "y_pred5 = model5.predict(X_test)\n",
    "\n",
    "#Confusion matrix\n",
    "cm_LogisticRegression = confusion_matrix(y_test, y_pred1)\n",
    "cm_DecisionTree = confusion_matrix(y_test, y_pred2)\n",
    "cm_SupportVectorClass = confusion_matrix(y_test, y_pred3)\n",
    "cm_KNN = confusion_matrix(y_test, y_pred4)\n",
    "cm_NaiveBayes = confusion_matrix(y_test, y_pred5)"
   ]
  },
  {
   "cell_type": "code",
   "execution_count": 15,
   "metadata": {},
   "outputs": [
    {
     "name": "stdout",
     "output_type": "stream",
     "text": [
      "[[2068  550]\n",
      " [ 629 1851]]\n"
     ]
    }
   ],
   "source": [
    "print(cm_NaiveBayes)"
   ]
  },
  {
   "cell_type": "code",
   "execution_count": 16,
   "metadata": {},
   "outputs": [
    {
     "name": "stderr",
     "output_type": "stream",
     "text": [
      "C:\\Users\\Suyash\\anaconda3\\lib\\site-packages\\sklearn\\model_selection\\_split.py:296: FutureWarning: Setting a random_state has no effect since shuffle is False. This will raise an error in 0.24. You should leave random_state to its default (None), or set shuffle=True.\n",
      "  FutureWarning\n"
     ]
    },
    {
     "name": "stdout",
     "output_type": "stream",
     "text": [
      "Accuracy of Logistic Regression Model =  0.807799506682404\n",
      "Accuracy of Decision Tree Model =  0.6063564466997902\n",
      "Accuracy of Support Vector Machine =  0.8069585344650896\n",
      "Accuracy of k-NN Model =  0.5583480221356836\n",
      "Accuracy of Naive Bayes Model =  0.7786252835869419\n"
     ]
    }
   ],
   "source": [
    "kfold = model_selection.KFold(n_splits=10, random_state = 0)\n",
    "result1 = model_selection.cross_val_score(model1, X_train, y_train, cv=kfold)\n",
    "result2 = model_selection.cross_val_score(model2, X_train, y_train, cv=kfold)\n",
    "result3 = model_selection.cross_val_score(model3, X_train, y_train, cv=kfold)\n",
    "result4 = model_selection.cross_val_score(model4, X_train, y_train, cv=kfold)\n",
    "result5 = model_selection.cross_val_score(model5, X_train, y_train, cv=kfold)\n",
    "\n",
    "#Printing the accuracies achieved in cross-validation\n",
    "print('Accuracy of Logistic Regression Model = ',result1.mean())\n",
    "print('Accuracy of Decision Tree Model = ',result2.mean())\n",
    "print('Accuracy of Support Vector Machine = ',result3.mean())\n",
    "print('Accuracy of k-NN Model = ',result4.mean())\n",
    "print('Accuracy of Naive Bayes Model = ',result5.mean())"
   ]
  },
  {
   "cell_type": "code",
   "execution_count": null,
   "metadata": {},
   "outputs": [],
   "source": []
  },
  {
   "cell_type": "code",
   "execution_count": null,
   "metadata": {},
   "outputs": [],
   "source": []
  },
  {
   "cell_type": "code",
   "execution_count": null,
   "metadata": {},
   "outputs": [],
   "source": []
  }
 ],
 "metadata": {
  "kernelspec": {
   "display_name": "Python 3",
   "language": "python",
   "name": "python3"
  },
  "language_info": {
   "codemirror_mode": {
    "name": "ipython",
    "version": 3
   },
   "file_extension": ".py",
   "mimetype": "text/x-python",
   "name": "python",
   "nbconvert_exporter": "python",
   "pygments_lexer": "ipython3",
   "version": "3.8.8"
  }
 },
 "nbformat": 4,
 "nbformat_minor": 4
}
