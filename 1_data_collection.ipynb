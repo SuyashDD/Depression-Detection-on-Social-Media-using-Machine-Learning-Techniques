{
 "cells": [
  {
   "cell_type": "markdown",
   "metadata": {},
   "source": [
    "# Data Collection\n",
    "\n",
    "**We use twitter API key for data fetching and dataset generation**"
   ]
  },
  {
   "cell_type": "code",
   "execution_count": 1,
   "metadata": {},
   "outputs": [],
   "source": [
    "#!pip install tweepy\n",
    "import tweepy\n",
    "import csv\n",
    "import pandas as pd\n",
    "from tqdm import tqdm\n",
    "import numpy as np\n",
    "import ast\n",
    "import string\n",
    "import datetime\n",
    "\n",
    "# input your credentials here\n",
    "consumer_key = 'EcwAltcOolBlwQlesRg2Ux5A8'\n",
    "consumer_secret = 'tMltHbelqqDAWJhoTSPa2TDrB4LWL4FK9B40F7qGsU7wUEmN9J'\n",
    "access_token = '1331612828281683973-9SYgUjN2pYpoTVpONPRh3SCsMsMbB1'\n",
    "access_token_secret = 'n901ArAC0NHH1EExcCEn8BMApnGfjejHM6V0Cz3wtS5Mq'\n",
    "\n",
    "#accessing data using twitter api via tweepy\n",
    "auth = tweepy.OAuthHandler(consumer_key, consumer_secret)\n",
    "auth.set_access_token(access_token, access_token_secret)\n",
    "api = tweepy.API(auth, wait_on_rate_limit=True)"
   ]
  },
  {
   "cell_type": "markdown",
   "metadata": {},
   "source": [
    "###### **Fetching and saving tweets that contains words like 'sad' 'disappoint' 'hurtful' 'upset'**"
   ]
  },
  {
   "cell_type": "code",
   "execution_count": 2,
   "metadata": {},
   "outputs": [],
   "source": [
    "#a csv file for storing depressive tweets \n",
    "csvFile = open('tweet-dataset-depressive.csv', 'a')\n",
    "\n",
    "# Use csv Writer\n",
    "csvWriter = csv.writer(csvFile)\n",
    "query = [ 'sad' , 'disappoint' , 'hurtful' , 'upset']\n",
    "\n",
    "csvWriter.writerow([\"id\", \"timestamp\",\"tweet_text\"])\n",
    "for qu in query:\n",
    "    print(qu)\n",
    "    for tweet in tqdm(tweepy.Cursor(api.search, q=qu,tweet_mode=\"extended\",lang=\"en\",since=\"2020-04-01\").items(5000)):\n",
    "        if (not tweet.retweeted) and ('RT @' not in tweet.full_text):\n",
    "            csvWriter.writerow([tweet.id, tweet.created_at,tweet.full_text.encode('utf-8')])\n",
    "        \n",
    "    print(\"Processing for the word {} finished\".format(qu))"
   ]
  },
  {
   "cell_type": "markdown",
   "metadata": {},
   "source": [
    "###### **Fetching and saving tweets that contains words like 'happy' 'satisfied'**"
   ]
  },
  {
   "cell_type": "code",
   "execution_count": 3,
   "metadata": {},
   "outputs": [],
   "source": [
    "#csv file for storing normal tweets\n",
    "csvFile = open('tweet-dataset-non-depressive.csv', 'a')\n",
    "\n",
    "# Use csv Writer\n",
    "csvWriter = csv.writer(csvFile)\n",
    "# 'happy', 'blissful', 'satisfied', 'delighted' , 'pleased' ,\n",
    "query = ['joyful', 'cheerful', 'merry',  'glad']\n",
    "\n",
    "csvWriter.writerow([\"id\", \"timestamp\",\"tweet_text\"])\n",
    "for qu in query:\n",
    "    print(qu)\n",
    "    for tweet in tqdm(tweepy.Cursor(api.search, q=qu,tweet_mode=\"extended\",\\\n",
    "                                    lang=\"en\",since=\"2020-04-01\").items(6000)):\n",
    "        if (not tweet.retweeted) and ('RT @' not in tweet.full_text):\n",
    "            csvWriter.writerow([tweet.id, tweet.created_at,tweet.full_text.encode('utf-8')])\n",
    "        \n",
    "    print(\"Processing for {} finished\".format(qu))"
   ]
  },
  {
   "cell_type": "markdown",
   "metadata": {},
   "source": [
    "#### **working on Datasets**"
   ]
  },
  {
   "cell_type": "code",
   "execution_count": 4,
   "metadata": {},
   "outputs": [],
   "source": [
    "# reading csv file in df_depressive\n",
    "df_depressive = pd.read_csv(\"Depressive_Merged.csv\",encoding=\"utf-8\")"
   ]
  },
  {
   "cell_type": "code",
   "execution_count": 5,
   "metadata": {},
   "outputs": [
    {
     "name": "stdout",
     "output_type": "stream",
     "text": [
      "7696\n"
     ]
    },
    {
     "data": {
      "text/html": [
       "<div>\n",
       "<style scoped>\n",
       "    .dataframe tbody tr th:only-of-type {\n",
       "        vertical-align: middle;\n",
       "    }\n",
       "\n",
       "    .dataframe tbody tr th {\n",
       "        vertical-align: top;\n",
       "    }\n",
       "\n",
       "    .dataframe thead th {\n",
       "        text-align: right;\n",
       "    }\n",
       "</style>\n",
       "<table border=\"1\" class=\"dataframe\">\n",
       "  <thead>\n",
       "    <tr style=\"text-align: right;\">\n",
       "      <th></th>\n",
       "      <th>id</th>\n",
       "      <th>timestamp</th>\n",
       "      <th>tweet_text</th>\n",
       "    </tr>\n",
       "  </thead>\n",
       "  <tbody>\n",
       "    <tr>\n",
       "      <th>0</th>\n",
       "      <td>1.388080e+18</td>\n",
       "      <td>30-04-2021 10:31</td>\n",
       "      <td>b\"am i mentally ill or is wearing this hair ti...</td>\n",
       "    </tr>\n",
       "    <tr>\n",
       "      <th>1</th>\n",
       "      <td>1.388080e+18</td>\n",
       "      <td>30-04-2021 10:31</td>\n",
       "      <td>b'Bath Salts are used to treat mental and phys...</td>\n",
       "    </tr>\n",
       "    <tr>\n",
       "      <th>2</th>\n",
       "      <td>1.388080e+18</td>\n",
       "      <td>30-04-2021 10:30</td>\n",
       "      <td>b'Insomnia and Anxiety really pulled up and be...</td>\n",
       "    </tr>\n",
       "    <tr>\n",
       "      <th>3</th>\n",
       "      <td>1.388080e+18</td>\n",
       "      <td>30-04-2021 10:30</td>\n",
       "      <td>b'@NNinchop hab leider n social anxiety :('</td>\n",
       "    </tr>\n",
       "    <tr>\n",
       "      <th>4</th>\n",
       "      <td>1.388080e+18</td>\n",
       "      <td>30-04-2021 10:30</td>\n",
       "      <td>b'I go to the tip yesterday after my jolly to ...</td>\n",
       "    </tr>\n",
       "  </tbody>\n",
       "</table>\n",
       "</div>"
      ],
      "text/plain": [
       "             id         timestamp  \\\n",
       "0  1.388080e+18  30-04-2021 10:31   \n",
       "1  1.388080e+18  30-04-2021 10:31   \n",
       "2  1.388080e+18  30-04-2021 10:30   \n",
       "3  1.388080e+18  30-04-2021 10:30   \n",
       "4  1.388080e+18  30-04-2021 10:30   \n",
       "\n",
       "                                          tweet_text  \n",
       "0  b\"am i mentally ill or is wearing this hair ti...  \n",
       "1  b'Bath Salts are used to treat mental and phys...  \n",
       "2  b'Insomnia and Anxiety really pulled up and be...  \n",
       "3        b'@NNinchop hab leider n social anxiety :('  \n",
       "4  b'I go to the tip yesterday after my jolly to ...  "
      ]
     },
     "execution_count": 5,
     "metadata": {},
     "output_type": "execute_result"
    }
   ],
   "source": [
    "#df_depressive.columns = [\"id\",\"time_stamp\",\"tweet_text\"]\n",
    "print(len(df_depressive))\n",
    "df_depressive.head()"
   ]
  },
  {
   "cell_type": "code",
   "execution_count": 6,
   "metadata": {},
   "outputs": [],
   "source": [
    "# reading csv file containing non-depressive words in tweets\n",
    "df_normal = pd.read_csv(\"Happy_Merged.csv\",encoding=\"utf-8\")"
   ]
  },
  {
   "cell_type": "code",
   "execution_count": 7,
   "metadata": {},
   "outputs": [
    {
     "name": "stdout",
     "output_type": "stream",
     "text": [
      "9296\n"
     ]
    },
    {
     "data": {
      "text/html": [
       "<div>\n",
       "<style scoped>\n",
       "    .dataframe tbody tr th:only-of-type {\n",
       "        vertical-align: middle;\n",
       "    }\n",
       "\n",
       "    .dataframe tbody tr th {\n",
       "        vertical-align: top;\n",
       "    }\n",
       "\n",
       "    .dataframe thead th {\n",
       "        text-align: right;\n",
       "    }\n",
       "</style>\n",
       "<table border=\"1\" class=\"dataframe\">\n",
       "  <thead>\n",
       "    <tr style=\"text-align: right;\">\n",
       "      <th></th>\n",
       "      <th>id</th>\n",
       "      <th>timestamp</th>\n",
       "      <th>tweet_text</th>\n",
       "    </tr>\n",
       "  </thead>\n",
       "  <tbody>\n",
       "    <tr>\n",
       "      <th>0</th>\n",
       "      <td>1.390000e+18</td>\n",
       "      <td>30-04-2021 21:41</td>\n",
       "      <td>b'@madamjujujive Yes, just fancied it. It\\xe2\\...</td>\n",
       "    </tr>\n",
       "    <tr>\n",
       "      <th>1</th>\n",
       "      <td>1.390000e+18</td>\n",
       "      <td>30-04-2021 21:40</td>\n",
       "      <td>b'Great Relief and Blissful. As Bobde out its ...</td>\n",
       "    </tr>\n",
       "    <tr>\n",
       "      <th>2</th>\n",
       "      <td>1.390000e+18</td>\n",
       "      <td>30-04-2021 21:36</td>\n",
       "      <td>b'@Haarish_Shah My parents did register to sta...</td>\n",
       "    </tr>\n",
       "    <tr>\n",
       "      <th>3</th>\n",
       "      <td>1.390000e+18</td>\n",
       "      <td>30-04-2021 21:36</td>\n",
       "      <td>b\"Writing a ship I genuinely love has inverted...</td>\n",
       "    </tr>\n",
       "    <tr>\n",
       "      <th>4</th>\n",
       "      <td>1.390000e+18</td>\n",
       "      <td>30-04-2021 21:35</td>\n",
       "      <td>b'@kumar_isu this might help you https://t.co/...</td>\n",
       "    </tr>\n",
       "  </tbody>\n",
       "</table>\n",
       "</div>"
      ],
      "text/plain": [
       "             id         timestamp  \\\n",
       "0  1.390000e+18  30-04-2021 21:41   \n",
       "1  1.390000e+18  30-04-2021 21:40   \n",
       "2  1.390000e+18  30-04-2021 21:36   \n",
       "3  1.390000e+18  30-04-2021 21:36   \n",
       "4  1.390000e+18  30-04-2021 21:35   \n",
       "\n",
       "                                          tweet_text  \n",
       "0  b'@madamjujujive Yes, just fancied it. It\\xe2\\...  \n",
       "1  b'Great Relief and Blissful. As Bobde out its ...  \n",
       "2  b'@Haarish_Shah My parents did register to sta...  \n",
       "3  b\"Writing a ship I genuinely love has inverted...  \n",
       "4  b'@kumar_isu this might help you https://t.co/...  "
      ]
     },
     "execution_count": 7,
     "metadata": {},
     "output_type": "execute_result"
    }
   ],
   "source": [
    "#df_normal.columns = [\"id\",\"time_stamp\",\"tweet_text\"]\n",
    "print(len(df_normal))\n",
    "df_normal.head()"
   ]
  },
  {
   "cell_type": "code",
   "execution_count": 8,
   "metadata": {},
   "outputs": [
    {
     "data": {
      "text/html": [
       "<div>\n",
       "<style scoped>\n",
       "    .dataframe tbody tr th:only-of-type {\n",
       "        vertical-align: middle;\n",
       "    }\n",
       "\n",
       "    .dataframe tbody tr th {\n",
       "        vertical-align: top;\n",
       "    }\n",
       "\n",
       "    .dataframe thead th {\n",
       "        text-align: right;\n",
       "    }\n",
       "</style>\n",
       "<table border=\"1\" class=\"dataframe\">\n",
       "  <thead>\n",
       "    <tr style=\"text-align: right;\">\n",
       "      <th></th>\n",
       "      <th>id</th>\n",
       "      <th>timestamp</th>\n",
       "      <th>tweet_text</th>\n",
       "    </tr>\n",
       "  </thead>\n",
       "  <tbody>\n",
       "    <tr>\n",
       "      <th>0</th>\n",
       "      <td>1.390000e+18</td>\n",
       "      <td>30-04-2021 21:41</td>\n",
       "      <td>b'@madamjujujive Yes, just fancied it. It\\xe2\\...</td>\n",
       "    </tr>\n",
       "    <tr>\n",
       "      <th>1</th>\n",
       "      <td>1.390000e+18</td>\n",
       "      <td>30-04-2021 21:40</td>\n",
       "      <td>b'Great Relief and Blissful. As Bobde out its ...</td>\n",
       "    </tr>\n",
       "    <tr>\n",
       "      <th>2</th>\n",
       "      <td>1.390000e+18</td>\n",
       "      <td>30-04-2021 21:36</td>\n",
       "      <td>b'@Haarish_Shah My parents did register to sta...</td>\n",
       "    </tr>\n",
       "    <tr>\n",
       "      <th>3</th>\n",
       "      <td>1.390000e+18</td>\n",
       "      <td>30-04-2021 21:36</td>\n",
       "      <td>b\"Writing a ship I genuinely love has inverted...</td>\n",
       "    </tr>\n",
       "    <tr>\n",
       "      <th>4</th>\n",
       "      <td>1.390000e+18</td>\n",
       "      <td>30-04-2021 21:35</td>\n",
       "      <td>b'@kumar_isu this might help you https://t.co/...</td>\n",
       "    </tr>\n",
       "  </tbody>\n",
       "</table>\n",
       "</div>"
      ],
      "text/plain": [
       "             id         timestamp  \\\n",
       "0  1.390000e+18  30-04-2021 21:41   \n",
       "1  1.390000e+18  30-04-2021 21:40   \n",
       "2  1.390000e+18  30-04-2021 21:36   \n",
       "3  1.390000e+18  30-04-2021 21:36   \n",
       "4  1.390000e+18  30-04-2021 21:35   \n",
       "\n",
       "                                          tweet_text  \n",
       "0  b'@madamjujujive Yes, just fancied it. It\\xe2\\...  \n",
       "1  b'Great Relief and Blissful. As Bobde out its ...  \n",
       "2  b'@Haarish_Shah My parents did register to sta...  \n",
       "3  b\"Writing a ship I genuinely love has inverted...  \n",
       "4  b'@kumar_isu this might help you https://t.co/...  "
      ]
     },
     "execution_count": 8,
     "metadata": {},
     "output_type": "execute_result"
    }
   ],
   "source": [
    "# if want to drop some rows\n",
    "#df_normal = df_normal.drop([0,1]) -> drops 1st and 2nd rows.\n",
    "df_normal.head()"
   ]
  },
  {
   "cell_type": "markdown",
   "metadata": {},
   "source": [
    "#### **Defining functions for data cleaning**"
   ]
  },
  {
   "cell_type": "code",
   "execution_count": 9,
   "metadata": {},
   "outputs": [],
   "source": [
    "# !pip install emoji\n",
    "import re\n",
    "import emoji\n",
    "import ast\n",
    "\n",
    "# function for replacing urls(starting from http) with an empty string.\n",
    "def remove_urls(text):\n",
    "    return re.sub(r'http\\S+', '', text)\n",
    "\n",
    "# funtion for replacing usernames(starting with @___) with an empty string\n",
    "def remove_usernames(text):\n",
    "    return re.sub('@[^\\s]+','',text)\n",
    "\n",
    "def remove_hashtags(text):\n",
    "    return re.sub('[!@_^%*#$=-]', '', text)\n",
    "\n",
    "def remove_emojis(text):\n",
    "    allchars = [j for j in text]\n",
    "    emoji_list = [c for c in allchars if c in emoji.UNICODE_EMOJI]\n",
    "    clean_text = ' '.join([k for k in text.split() if not any(i in k for i in emoji_list)])\n",
    "    return clean_text\n",
    "\n",
    "def remove_digits(text):\n",
    "    return re.sub(r'\\b\\d+\\b', '', text)\n",
    "\n",
    "def remove_digits_str(text):\n",
    "    return re.sub(r'\\d+', '', text)\n",
    "\n"
   ]
  },
  {
   "cell_type": "code",
   "execution_count": 10,
   "metadata": {},
   "outputs": [
    {
     "data": {
      "text/html": [
       "<div>\n",
       "<style scoped>\n",
       "    .dataframe tbody tr th:only-of-type {\n",
       "        vertical-align: middle;\n",
       "    }\n",
       "\n",
       "    .dataframe tbody tr th {\n",
       "        vertical-align: top;\n",
       "    }\n",
       "\n",
       "    .dataframe thead th {\n",
       "        text-align: right;\n",
       "    }\n",
       "</style>\n",
       "<table border=\"1\" class=\"dataframe\">\n",
       "  <thead>\n",
       "    <tr style=\"text-align: right;\">\n",
       "      <th></th>\n",
       "      <th>id</th>\n",
       "      <th>timestamp</th>\n",
       "      <th>tweet_text</th>\n",
       "    </tr>\n",
       "  </thead>\n",
       "  <tbody>\n",
       "    <tr>\n",
       "      <th>0</th>\n",
       "      <td>1.388080e+18</td>\n",
       "      <td>30-04-2021 10:31</td>\n",
       "      <td>am i mentally ill or is wearing this hair tie ...</td>\n",
       "    </tr>\n",
       "    <tr>\n",
       "      <th>1</th>\n",
       "      <td>1.388080e+18</td>\n",
       "      <td>30-04-2021 10:31</td>\n",
       "      <td>Bath Salts are used to treat mental and physic...</td>\n",
       "    </tr>\n",
       "    <tr>\n",
       "      <th>2</th>\n",
       "      <td>1.388080e+18</td>\n",
       "      <td>30-04-2021 10:30</td>\n",
       "      <td>Insomnia and Anxiety really pulled up and beat...</td>\n",
       "    </tr>\n",
       "    <tr>\n",
       "      <th>3</th>\n",
       "      <td>1.388080e+18</td>\n",
       "      <td>30-04-2021 10:30</td>\n",
       "      <td>hab leider n social anxiety</td>\n",
       "    </tr>\n",
       "    <tr>\n",
       "      <th>4</th>\n",
       "      <td>1.388080e+18</td>\n",
       "      <td>30-04-2021 10:30</td>\n",
       "      <td>I go to the tip yesterday after my jolly to IK...</td>\n",
       "    </tr>\n",
       "  </tbody>\n",
       "</table>\n",
       "</div>"
      ],
      "text/plain": [
       "             id         timestamp  \\\n",
       "0  1.388080e+18  30-04-2021 10:31   \n",
       "1  1.388080e+18  30-04-2021 10:31   \n",
       "2  1.388080e+18  30-04-2021 10:30   \n",
       "3  1.388080e+18  30-04-2021 10:30   \n",
       "4  1.388080e+18  30-04-2021 10:30   \n",
       "\n",
       "                                          tweet_text  \n",
       "0  am i mentally ill or is wearing this hair tie ...  \n",
       "1  Bath Salts are used to treat mental and physic...  \n",
       "2  Insomnia and Anxiety really pulled up and beat...  \n",
       "3                        hab leider n social anxiety  \n",
       "4  I go to the tip yesterday after my jolly to IK...  "
      ]
     },
     "execution_count": 10,
     "metadata": {},
     "output_type": "execute_result"
    }
   ],
   "source": [
    "# Data Cleaning on Dataset containing Depressive words\n",
    "df_depressive['tweet_text'] = df_depressive['tweet_text'].apply(ast.literal_eval).str.decode(\"utf-8\")\n",
    "\n",
    "# .apply() is an inbuilt function in pandas\n",
    "df_depressive.tweet_text = df_depressive.tweet_text.apply(remove_urls)\n",
    "df_depressive['tweet_text'].dropna(inplace=True) # drops null string\n",
    "df_depressive.tweet_text = df_depressive.tweet_text.apply(remove_usernames)\n",
    "df_depressive.tweet_text = df_depressive.tweet_text.apply(lambda x:''.join([i for i in x if i not in string.punctuation]))\n",
    "df_depressive.tweet_text = df_depressive.tweet_text.apply(remove_emojis)\n",
    "df_depressive.tweet_text = df_depressive.tweet_text.apply(remove_hashtags)\n",
    "df_depressive.tweet_text = df_depressive.tweet_text.apply(remove_digits)\n",
    "df_depressive.tweet_text = df_depressive.tweet_text.apply(remove_digits_str)\n",
    "\n",
    "df_depressive['tweet_text'].dropna(inplace=True) # considering only tweet_text column\n",
    "df_depressive = df_depressive.drop_duplicates(keep='first') # dropping duplicates (keeping 1st)... when same timestamp , id , tweet \n",
    "# considering whole table for matching id , time and text \n",
    "df_depressive.head()"
   ]
  },
  {
   "cell_type": "code",
   "execution_count": 11,
   "metadata": {},
   "outputs": [
    {
     "name": "stdout",
     "output_type": "stream",
     "text": [
      "7465\n"
     ]
    },
    {
     "data": {
      "text/plain": [
       "'Bath Salts are used to treat mental and physical health ailments It is believed to provide several health benefits for people with muscle pain and stiffness stiff aching joints arthritis circulation problems headache anxiety amp stress skin allergies dry and itchy skin'"
      ]
     },
     "execution_count": 11,
     "metadata": {},
     "output_type": "execute_result"
    }
   ],
   "source": [
    "# checking length of dataset after data cleaning\n",
    "\n",
    "print(len(df_depressive))\n",
    "df_depressive['tweet_text'][1]"
   ]
  },
  {
   "cell_type": "code",
   "execution_count": 12,
   "metadata": {},
   "outputs": [],
   "source": [
    "# remove emojis\n",
    "df_depressive = df_depressive.astype(str).apply(lambda x: x.str.encode('ascii', 'ignore').str.decode('ascii'))"
   ]
  },
  {
   "cell_type": "code",
   "execution_count": 13,
   "metadata": {},
   "outputs": [],
   "source": [
    "# saving dataframe to new .csv file\n",
    "\n",
    "df_depressive.to_csv(\"1-output-depressive.csv\",index=False)"
   ]
  },
  {
   "cell_type": "code",
   "execution_count": 14,
   "metadata": {},
   "outputs": [
    {
     "name": "stdout",
     "output_type": "stream",
     "text": [
      "7465\n"
     ]
    }
   ],
   "source": [
    "print(len(df_depressive))"
   ]
  },
  {
   "cell_type": "code",
   "execution_count": 15,
   "metadata": {},
   "outputs": [
    {
     "data": {
      "text/html": [
       "<div>\n",
       "<style scoped>\n",
       "    .dataframe tbody tr th:only-of-type {\n",
       "        vertical-align: middle;\n",
       "    }\n",
       "\n",
       "    .dataframe tbody tr th {\n",
       "        vertical-align: top;\n",
       "    }\n",
       "\n",
       "    .dataframe thead th {\n",
       "        text-align: right;\n",
       "    }\n",
       "</style>\n",
       "<table border=\"1\" class=\"dataframe\">\n",
       "  <thead>\n",
       "    <tr style=\"text-align: right;\">\n",
       "      <th></th>\n",
       "      <th>id</th>\n",
       "      <th>timestamp</th>\n",
       "      <th>tweet_text</th>\n",
       "    </tr>\n",
       "  </thead>\n",
       "  <tbody>\n",
       "    <tr>\n",
       "      <th>0</th>\n",
       "      <td>1.390000e+18</td>\n",
       "      <td>30-04-2021 21:41</td>\n",
       "      <td>b'@madamjujujive Yes, just fancied it. It\\xe2\\...</td>\n",
       "    </tr>\n",
       "    <tr>\n",
       "      <th>1</th>\n",
       "      <td>1.390000e+18</td>\n",
       "      <td>30-04-2021 21:40</td>\n",
       "      <td>b'Great Relief and Blissful. As Bobde out its ...</td>\n",
       "    </tr>\n",
       "    <tr>\n",
       "      <th>2</th>\n",
       "      <td>1.390000e+18</td>\n",
       "      <td>30-04-2021 21:36</td>\n",
       "      <td>b'@Haarish_Shah My parents did register to sta...</td>\n",
       "    </tr>\n",
       "    <tr>\n",
       "      <th>3</th>\n",
       "      <td>1.390000e+18</td>\n",
       "      <td>30-04-2021 21:36</td>\n",
       "      <td>b\"Writing a ship I genuinely love has inverted...</td>\n",
       "    </tr>\n",
       "    <tr>\n",
       "      <th>4</th>\n",
       "      <td>1.390000e+18</td>\n",
       "      <td>30-04-2021 21:35</td>\n",
       "      <td>b'@kumar_isu this might help you https://t.co/...</td>\n",
       "    </tr>\n",
       "  </tbody>\n",
       "</table>\n",
       "</div>"
      ],
      "text/plain": [
       "             id         timestamp  \\\n",
       "0  1.390000e+18  30-04-2021 21:41   \n",
       "1  1.390000e+18  30-04-2021 21:40   \n",
       "2  1.390000e+18  30-04-2021 21:36   \n",
       "3  1.390000e+18  30-04-2021 21:36   \n",
       "4  1.390000e+18  30-04-2021 21:35   \n",
       "\n",
       "                                          tweet_text  \n",
       "0  b'@madamjujujive Yes, just fancied it. It\\xe2\\...  \n",
       "1  b'Great Relief and Blissful. As Bobde out its ...  \n",
       "2  b'@Haarish_Shah My parents did register to sta...  \n",
       "3  b\"Writing a ship I genuinely love has inverted...  \n",
       "4  b'@kumar_isu this might help you https://t.co/...  "
      ]
     },
     "execution_count": 15,
     "metadata": {},
     "output_type": "execute_result"
    }
   ],
   "source": [
    "df_normal.head()"
   ]
  },
  {
   "cell_type": "code",
   "execution_count": 16,
   "metadata": {},
   "outputs": [
    {
     "data": {
      "text/html": [
       "<div>\n",
       "<style scoped>\n",
       "    .dataframe tbody tr th:only-of-type {\n",
       "        vertical-align: middle;\n",
       "    }\n",
       "\n",
       "    .dataframe tbody tr th {\n",
       "        vertical-align: top;\n",
       "    }\n",
       "\n",
       "    .dataframe thead th {\n",
       "        text-align: right;\n",
       "    }\n",
       "</style>\n",
       "<table border=\"1\" class=\"dataframe\">\n",
       "  <thead>\n",
       "    <tr style=\"text-align: right;\">\n",
       "      <th></th>\n",
       "      <th>id</th>\n",
       "      <th>timestamp</th>\n",
       "      <th>tweet_text</th>\n",
       "    </tr>\n",
       "  </thead>\n",
       "  <tbody>\n",
       "    <tr>\n",
       "      <th>0</th>\n",
       "      <td>1.390000e+18</td>\n",
       "      <td>30-04-2021 21:41</td>\n",
       "      <td>Yes just fancied it It’s blissful</td>\n",
       "    </tr>\n",
       "    <tr>\n",
       "      <th>1</th>\n",
       "      <td>1.390000e+18</td>\n",
       "      <td>30-04-2021 21:40</td>\n",
       "      <td>Great Relief and Blissful As Bobde out its Gar...</td>\n",
       "    </tr>\n",
       "    <tr>\n",
       "      <th>2</th>\n",
       "      <td>1.390000e+18</td>\n",
       "      <td>30-04-2021 21:36</td>\n",
       "      <td>My parents did register to stand a better chan...</td>\n",
       "    </tr>\n",
       "    <tr>\n",
       "      <th>3</th>\n",
       "      <td>1.390000e+18</td>\n",
       "      <td>30-04-2021 21:36</td>\n",
       "      <td>Writing a ship I genuinely love has inverted m...</td>\n",
       "    </tr>\n",
       "    <tr>\n",
       "      <th>4</th>\n",
       "      <td>1.390000e+18</td>\n",
       "      <td>30-04-2021 21:35</td>\n",
       "      <td>this might help you</td>\n",
       "    </tr>\n",
       "  </tbody>\n",
       "</table>\n",
       "</div>"
      ],
      "text/plain": [
       "             id         timestamp  \\\n",
       "0  1.390000e+18  30-04-2021 21:41   \n",
       "1  1.390000e+18  30-04-2021 21:40   \n",
       "2  1.390000e+18  30-04-2021 21:36   \n",
       "3  1.390000e+18  30-04-2021 21:36   \n",
       "4  1.390000e+18  30-04-2021 21:35   \n",
       "\n",
       "                                          tweet_text  \n",
       "0                  Yes just fancied it It’s blissful  \n",
       "1  Great Relief and Blissful As Bobde out its Gar...  \n",
       "2  My parents did register to stand a better chan...  \n",
       "3  Writing a ship I genuinely love has inverted m...  \n",
       "4                                this might help you  "
      ]
     },
     "execution_count": 16,
     "metadata": {},
     "output_type": "execute_result"
    }
   ],
   "source": [
    "# Data Cleaning on Dataset containing Non-Depressive words\n",
    "df_normal['tweet_text'] = df_normal['tweet_text'].apply(ast.literal_eval).str.decode(\"utf-8\")\n",
    "df_normal.tweet_text = df_normal.tweet_text.apply(remove_urls)\n",
    "df_normal['tweet_text'].dropna(inplace=True) # drops null string\n",
    "df_normal.tweet_text = df_normal.tweet_text.apply(remove_usernames)\n",
    "df_normal.tweet_text = df_normal.tweet_text.apply(lambda x:''.join([i for i in x if i not in string.punctuation]))\n",
    "\n",
    "df_normal.tweet_text = df_normal.tweet_text.apply(remove_emojis)\n",
    "df_normal.tweet_text = df_normal.tweet_text.apply(remove_hashtags)\n",
    "df_normal.tweet_text = df_normal.tweet_text.apply(remove_digits)\n",
    "df_normal.tweet_text = df_normal.tweet_text.apply(remove_digits_str)\n",
    "\n",
    "\n",
    "df_normal['tweet_text'].dropna(inplace=True)\n",
    "df_normal = df_normal.drop_duplicates(keep='first')\n",
    "df_normal.head()"
   ]
  },
  {
   "cell_type": "code",
   "execution_count": 17,
   "metadata": {},
   "outputs": [
    {
     "data": {
      "text/plain": [
       "'I think she actually took that in the ER waiting room The last place I would expect to see a pleased expression to be sure after letting your child suffer for  days'"
      ]
     },
     "execution_count": 17,
     "metadata": {},
     "output_type": "execute_result"
    }
   ],
   "source": [
    "df_normal['tweet_text'][7051]"
   ]
  },
  {
   "cell_type": "code",
   "execution_count": 18,
   "metadata": {},
   "outputs": [],
   "source": [
    "# remove emojis \n",
    "df_normal = df_normal.astype(str).apply(lambda x: x.str.encode('ascii', 'ignore').str.decode('ascii'))"
   ]
  },
  {
   "cell_type": "code",
   "execution_count": 19,
   "metadata": {},
   "outputs": [
    {
     "name": "stdout",
     "output_type": "stream",
     "text": [
      "9057\n"
     ]
    }
   ],
   "source": [
    "print(len(df_normal))"
   ]
  },
  {
   "cell_type": "code",
   "execution_count": 20,
   "metadata": {},
   "outputs": [],
   "source": [
    "df_normal.to_csv(\"1-output-normal.csv\",index=False)"
   ]
  },
  {
   "cell_type": "code",
   "execution_count": null,
   "metadata": {},
   "outputs": [],
   "source": []
  }
 ],
 "metadata": {
  "kernelspec": {
   "display_name": "Python 3",
   "language": "python",
   "name": "python3"
  },
  "language_info": {
   "codemirror_mode": {
    "name": "ipython",
    "version": 3
   },
   "file_extension": ".py",
   "mimetype": "text/x-python",
   "name": "python",
   "nbconvert_exporter": "python",
   "pygments_lexer": "ipython3",
   "version": "3.8.8"
  }
 },
 "nbformat": 4,
 "nbformat_minor": 4
}
