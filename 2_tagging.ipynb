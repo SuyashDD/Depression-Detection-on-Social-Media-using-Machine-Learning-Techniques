{
 "cells": [
  {
   "cell_type": "code",
   "execution_count": 1,
   "metadata": {},
   "outputs": [],
   "source": [
    "#importing required libraries\n",
    "import pandas as pd\n",
    "import numpy as np\n",
    "import nltk\n",
    "import json\n",
    "import csv\n",
    "from tqdm import tqdm\n",
    "from nltk.tokenize import word_tokenize\n",
    "import string\n",
    "import re\n",
    "import time\n",
    "import pandas as pd\n",
    "\n",
    "# nltk.download('punkt')"
   ]
  },
  {
   "cell_type": "markdown",
   "metadata": {},
   "source": [
    "#### **Tagging dataset entries using dictionary**"
   ]
  },
  {
   "cell_type": "code",
   "execution_count": 2,
   "metadata": {},
   "outputs": [],
   "source": [
    "#reading a tab seperated files \n",
    "word_dictionary = pd.read_csv(\"dictionary.tsv\",delimiter = \"\\t\")"
   ]
  },
  {
   "cell_type": "code",
   "execution_count": 3,
   "metadata": {},
   "outputs": [
    {
     "data": {
      "text/html": [
       "<div>\n",
       "<style scoped>\n",
       "    .dataframe tbody tr th:only-of-type {\n",
       "        vertical-align: middle;\n",
       "    }\n",
       "\n",
       "    .dataframe tbody tr th {\n",
       "        vertical-align: top;\n",
       "    }\n",
       "\n",
       "    .dataframe thead th {\n",
       "        text-align: right;\n",
       "    }\n",
       "</style>\n",
       "<table border=\"1\" class=\"dataframe\">\n",
       "  <thead>\n",
       "    <tr style=\"text-align: right;\">\n",
       "      <th></th>\n",
       "      <th>word_type</th>\n",
       "      <th>num</th>\n",
       "      <th>word</th>\n",
       "      <th>pos</th>\n",
       "      <th>y/n</th>\n",
       "      <th>p/n</th>\n",
       "    </tr>\n",
       "  </thead>\n",
       "  <tbody>\n",
       "    <tr>\n",
       "      <th>0</th>\n",
       "      <td>weaksubj</td>\n",
       "      <td>1</td>\n",
       "      <td>abandonment</td>\n",
       "      <td>noun</td>\n",
       "      <td>n</td>\n",
       "      <td>negative</td>\n",
       "    </tr>\n",
       "    <tr>\n",
       "      <th>1</th>\n",
       "      <td>weaksubj</td>\n",
       "      <td>1</td>\n",
       "      <td>abandon</td>\n",
       "      <td>verb</td>\n",
       "      <td>y</td>\n",
       "      <td>negative</td>\n",
       "    </tr>\n",
       "    <tr>\n",
       "      <th>2</th>\n",
       "      <td>strongsubj</td>\n",
       "      <td>1</td>\n",
       "      <td>abase</td>\n",
       "      <td>verb</td>\n",
       "      <td>y</td>\n",
       "      <td>negative</td>\n",
       "    </tr>\n",
       "    <tr>\n",
       "      <th>3</th>\n",
       "      <td>strongsubj</td>\n",
       "      <td>1</td>\n",
       "      <td>abasement</td>\n",
       "      <td>anypos</td>\n",
       "      <td>y</td>\n",
       "      <td>negative</td>\n",
       "    </tr>\n",
       "    <tr>\n",
       "      <th>4</th>\n",
       "      <td>strongsubj</td>\n",
       "      <td>1</td>\n",
       "      <td>abash</td>\n",
       "      <td>verb</td>\n",
       "      <td>y</td>\n",
       "      <td>negative</td>\n",
       "    </tr>\n",
       "  </tbody>\n",
       "</table>\n",
       "</div>"
      ],
      "text/plain": [
       "    word_type  num         word     pos y/n       p/n\n",
       "0    weaksubj    1  abandonment    noun   n  negative\n",
       "1    weaksubj    1      abandon    verb   y  negative\n",
       "2  strongsubj    1        abase    verb   y  negative\n",
       "3  strongsubj    1    abasement  anypos   y  negative\n",
       "4  strongsubj    1        abash    verb   y  negative"
      ]
     },
     "execution_count": 3,
     "metadata": {},
     "output_type": "execute_result"
    }
   ],
   "source": [
    "#giving column names to each column present in our table\n",
    "word_dictionary.columns = [\"word_type\",\"num\",\"word\",\"pos\",\"y/n\",\"p/n\"]\n",
    "word_dictionary.head()"
   ]
  },
  {
   "cell_type": "code",
   "execution_count": 4,
   "metadata": {},
   "outputs": [
    {
     "name": "stdout",
     "output_type": "stream",
     "text": [
      "[['abandonment', 'negative'], ['abandon', 'negative'], ['abase', 'negative']]\n"
     ]
    }
   ],
   "source": [
    "#form a pair of word and p/n inside word_state_pair list\n",
    "word_state_pair = []\n",
    "for i in range(len(word_dictionary)):\n",
    "    temp = []\n",
    "    temp.append(word_dictionary.loc[i,\"word\"])\n",
    "    temp.append(word_dictionary.loc[i,\"p/n\"])\n",
    "    word_state_pair.append(temp)\n",
    "print(word_state_pair[:3])"
   ]
  },
  {
   "cell_type": "code",
   "execution_count": 5,
   "metadata": {},
   "outputs": [
    {
     "name": "stdout",
     "output_type": "stream",
     "text": [
      "(array([], dtype=int64), array([], dtype=int64))\n",
      "(array([], dtype=int64), array([], dtype=int64))\n",
      "7465\n"
     ]
    }
   ],
   "source": [
    "#checking if there are any null strings present in tweet_text columns and if present then remove them\n",
    "dep = pd.read_csv(\"1-output-depressive.csv\")\n",
    "dep['tweet_text'].dropna(inplace=True)\n",
    "dep = dep.dropna(how='any') \n",
    "print(np.where(pd.isnull(dep)))\n",
    "print(np.where(dep.applymap(lambda x: x == '')))\n",
    "print(len(dep))\n",
    "dep.to_csv(\"1-output-depressive.csv\",index=True)"
   ]
  },
  {
   "cell_type": "code",
   "execution_count": 6,
   "metadata": {},
   "outputs": [
    {
     "name": "stdout",
     "output_type": "stream",
     "text": [
      "length of depressive tweets dataset 7465\n"
     ]
    }
   ],
   "source": [
    "#tagging of tweets present output output-depressive.csv file\n",
    "dep = pd.read_csv(\"1-output-depressive.csv\")\n",
    "\n",
    "k = []\n",
    "data_dict_depressive ={}\n",
    "some_milby = []\n",
    "\n",
    "print(\"length of depressive tweets dataset {}\".format(len(dep)))\n",
    "for i in range(len(dep)):\n",
    "    k.append(dep.loc[i,\"id\"])\n",
    "\n",
    "def add_polarity_depressive_table():  \n",
    "    counter = 0\n",
    "    ids = []\n",
    "    texts =[]\n",
    "    pol = []\n",
    "    time_stamp = []\n",
    "    for i in tqdm(range(len(dep))):\n",
    "            tweet_token = dep.loc[i,\"tweet_text\"]\n",
    "            time = dep.loc[i,\"timestamp\"]\n",
    "            \n",
    "            token = word_tokenize(tweet_token)\n",
    "            sumnum = 0\n",
    "            sum_word = 0\n",
    "            for t in token:\n",
    "                for d in word_state_pair:\n",
    "                    if t == d[0]:\n",
    "                        sentiment = d[1]\n",
    "                        if sentiment == \"positive\":\n",
    "                            sumnum += 1\n",
    "                            sum_word += 1\n",
    "                        elif sentiment == \"negative\":\n",
    "                            sumnum += -1\n",
    "                            sum_word += 1\n",
    "                        else:\n",
    "                            sumnum += 0\n",
    "                            sum_word += 1\n",
    "                        break\n",
    "            if sum_word != 0.0:\n",
    "                sum_more = sumnum / sum_word\n",
    "                if sum_more >= 0.3:\n",
    "                    sum_more = 1   \n",
    "                else:\n",
    "                    sum_more = 0\n",
    "                    \n",
    "            varid = k[counter]\n",
    "            ids.append(varid)\n",
    "            time_stamp.append(time)\n",
    "            texts.append(tweet_token)\n",
    "            pol.append(sum_more)\n",
    "            counter += 1\n",
    "            \n",
    "    data_dict_depressive['ids'] = ids\n",
    "    data_dict_depressive['time'] = time_stamp\n",
    "    data_dict_depressive['tweet_text'] = texts\n",
    "    data_dict_depressive['tag'] = pol\n"
   ]
  },
  {
   "cell_type": "code",
   "execution_count": 7,
   "metadata": {},
   "outputs": [
    {
     "name": "stderr",
     "output_type": "stream",
     "text": [
      "100%|██████████| 7465/7465 [01:02<00:00, 119.55it/s]\n"
     ]
    }
   ],
   "source": [
    "add_polarity_depressive_table()"
   ]
  },
  {
   "cell_type": "code",
   "execution_count": 8,
   "metadata": {},
   "outputs": [
    {
     "name": "stdout",
     "output_type": "stream",
     "text": [
      "7465 7465 7465 7465\n"
     ]
    }
   ],
   "source": [
    "print(len(data_dict_depressive['ids']) , len(data_dict_depressive['time']) , len(data_dict_depressive['tweet_text']) , len(data_dict_depressive['tag']))"
   ]
  },
  {
   "cell_type": "code",
   "execution_count": 9,
   "metadata": {},
   "outputs": [
    {
     "name": "stdout",
     "output_type": "stream",
     "text": [
      "(array([], dtype=int64), array([], dtype=int64))\n",
      "(array([], dtype=int64), array([], dtype=int64))\n",
      "9056\n"
     ]
    }
   ],
   "source": [
    "NonDep = pd.read_csv(\"1-output-normal.csv\")\n",
    "NonDep['tweet_text'].dropna(inplace=True)\n",
    "NonDep = NonDep.dropna(how='any') \n",
    "print( np.where(pd.isnull(NonDep)) )\n",
    "print(np.where(NonDep.applymap(lambda x: x == '')))\n",
    "print(len(NonDep))\n",
    "NonDep.to_csv(\"1-output-normal.csv\",index=True)"
   ]
  },
  {
   "cell_type": "code",
   "execution_count": 10,
   "metadata": {},
   "outputs": [
    {
     "data": {
      "text/plain": [
       "0"
      ]
     },
     "execution_count": 10,
     "metadata": {},
     "output_type": "execute_result"
    }
   ],
   "source": [
    "NonDep = pd.read_csv(\"1-output-normal.csv\")\n",
    "NonDep['tweet_text'].dropna(inplace=True)\n",
    "NonDep['tweet_text'].isna().sum()"
   ]
  },
  {
   "cell_type": "code",
   "execution_count": null,
   "metadata": {},
   "outputs": [],
   "source": []
  },
  {
   "cell_type": "code",
   "execution_count": 11,
   "metadata": {},
   "outputs": [
    {
     "name": "stdout",
     "output_type": "stream",
     "text": [
      "length of normal tweets dataset 9056\n"
     ]
    }
   ],
   "source": [
    "#tagging of tweets present output output-depressive.csv file\n",
    "#  = pd.read_csv(\"1-output-normal.csv\")\n",
    "\n",
    "k = []\n",
    "data_dict_normal ={}\n",
    "some_milby = []\n",
    "\n",
    "print(\"length of normal tweets dataset {}\".format(len(NonDep)))\n",
    "for i in range(len(NonDep)):\n",
    "    k.append(NonDep.loc[i,\"id\"])\n",
    "\n",
    "def add_polarity_normal_table():  \n",
    "    counter = 0\n",
    "    ids = []\n",
    "    texts =[]\n",
    "    pol = []\n",
    "    time_stamp = []\n",
    "    for i in tqdm(range(len(NonDep))):\n",
    "            tweet_token = NonDep.loc[i,\"tweet_text\"]\n",
    "            time = NonDep.loc[i,\"timestamp\"]\n",
    "            token = word_tokenize(tweet_token)\n",
    "            sumnum = 0\n",
    "            sum_word = 0\n",
    "            for t in token:\n",
    "                for d in word_state_pair:\n",
    "                    if t == d[0]:\n",
    "                        sentiment = d[1]\n",
    "                        if sentiment == \"positive\":\n",
    "                            sumnum += 1\n",
    "                            sum_word += 1\n",
    "                        elif sentiment == \"negative\":\n",
    "                            sumnum += -1\n",
    "                            sum_word += 1\n",
    "                        else:\n",
    "                            sumnum += 0\n",
    "                            sum_word += 1\n",
    "                        break\n",
    "            if sum_word != 0.0:\n",
    "                sum_more = sumnum / sum_word\n",
    "                if sum_more >= 0.4:\n",
    "                    sum_more = 1\n",
    "                elif (sum_more < 0.4) and (sum_more > -0.5):\n",
    "                    sum_more = 0\n",
    "                elif sum_more <= -0.5:\n",
    "                    sum_more = 0\n",
    "                else:\n",
    "                    pass\n",
    "                    \n",
    "            varid = k[counter]\n",
    "            ids.append(varid)\n",
    "            time_stamp.append(time)\n",
    "            texts.append(tweet_token)\n",
    "            pol.append(sum_more)\n",
    "            counter += 1\n",
    "            \n",
    "    data_dict_normal['ids'] = ids\n",
    "    data_dict_normal['time'] = time_stamp\n",
    "    data_dict_normal['tweet_text'] = texts\n",
    "    data_dict_normal['tag'] = pol\n"
   ]
  },
  {
   "cell_type": "code",
   "execution_count": 12,
   "metadata": {},
   "outputs": [
    {
     "name": "stderr",
     "output_type": "stream",
     "text": [
      "100%|██████████| 9056/9056 [01:02<00:00, 144.05it/s]\n"
     ]
    }
   ],
   "source": [
    "add_polarity_normal_table()"
   ]
  },
  {
   "cell_type": "code",
   "execution_count": 13,
   "metadata": {},
   "outputs": [],
   "source": [
    "tag_data_depressive = pd.DataFrame.from_dict(data_dict_depressive)\n",
    "\n",
    "tag_data_depressive.to_csv(\"2-depressive_tag_dataset.csv\",index=False)"
   ]
  },
  {
   "cell_type": "code",
   "execution_count": 14,
   "metadata": {},
   "outputs": [],
   "source": [
    "tag_data_normal = pd.DataFrame.from_dict(data_dict_normal)\n",
    "\n",
    "tag_data_normal.to_csv(\"2-normal_tag_dataset.csv\",index=False)"
   ]
  },
  {
   "cell_type": "code",
   "execution_count": 15,
   "metadata": {},
   "outputs": [],
   "source": [
    "#merge two files\n",
    "depressive = pd.read_csv(\"2-depressive_tag_dataset.csv\")\n",
    "normal = pd.read_csv(\"2-normal_tag_dataset.csv\")"
   ]
  },
  {
   "cell_type": "code",
   "execution_count": 16,
   "metadata": {},
   "outputs": [
    {
     "data": {
      "text/html": [
       "<div>\n",
       "<style scoped>\n",
       "    .dataframe tbody tr th:only-of-type {\n",
       "        vertical-align: middle;\n",
       "    }\n",
       "\n",
       "    .dataframe tbody tr th {\n",
       "        vertical-align: top;\n",
       "    }\n",
       "\n",
       "    .dataframe thead th {\n",
       "        text-align: right;\n",
       "    }\n",
       "</style>\n",
       "<table border=\"1\" class=\"dataframe\">\n",
       "  <thead>\n",
       "    <tr style=\"text-align: right;\">\n",
       "      <th></th>\n",
       "      <th>ids</th>\n",
       "      <th>time</th>\n",
       "      <th>tweet_text</th>\n",
       "      <th>tag</th>\n",
       "    </tr>\n",
       "  </thead>\n",
       "  <tbody>\n",
       "    <tr>\n",
       "      <th>0</th>\n",
       "      <td>1.388080e+18</td>\n",
       "      <td>30-04-2021 10:31</td>\n",
       "      <td>am i mentally ill or is wearing this hair tie ...</td>\n",
       "      <td>0</td>\n",
       "    </tr>\n",
       "    <tr>\n",
       "      <th>1</th>\n",
       "      <td>1.388080e+18</td>\n",
       "      <td>30-04-2021 10:31</td>\n",
       "      <td>Bath Salts are used to treat mental and physic...</td>\n",
       "      <td>0</td>\n",
       "    </tr>\n",
       "    <tr>\n",
       "      <th>2</th>\n",
       "      <td>1.388080e+18</td>\n",
       "      <td>30-04-2021 10:30</td>\n",
       "      <td>Insomnia and Anxiety really pulled up and beat...</td>\n",
       "      <td>0</td>\n",
       "    </tr>\n",
       "    <tr>\n",
       "      <th>3</th>\n",
       "      <td>1.388080e+18</td>\n",
       "      <td>30-04-2021 10:30</td>\n",
       "      <td>hab leider n social anxiety</td>\n",
       "      <td>0</td>\n",
       "    </tr>\n",
       "    <tr>\n",
       "      <th>4</th>\n",
       "      <td>1.388080e+18</td>\n",
       "      <td>30-04-2021 10:30</td>\n",
       "      <td>I go to the tip yesterday after my jolly to IK...</td>\n",
       "      <td>0</td>\n",
       "    </tr>\n",
       "  </tbody>\n",
       "</table>\n",
       "</div>"
      ],
      "text/plain": [
       "            ids              time  \\\n",
       "0  1.388080e+18  30-04-2021 10:31   \n",
       "1  1.388080e+18  30-04-2021 10:31   \n",
       "2  1.388080e+18  30-04-2021 10:30   \n",
       "3  1.388080e+18  30-04-2021 10:30   \n",
       "4  1.388080e+18  30-04-2021 10:30   \n",
       "\n",
       "                                          tweet_text  tag  \n",
       "0  am i mentally ill or is wearing this hair tie ...    0  \n",
       "1  Bath Salts are used to treat mental and physic...    0  \n",
       "2  Insomnia and Anxiety really pulled up and beat...    0  \n",
       "3                        hab leider n social anxiety    0  \n",
       "4  I go to the tip yesterday after my jolly to IK...    0  "
      ]
     },
     "execution_count": 16,
     "metadata": {},
     "output_type": "execute_result"
    }
   ],
   "source": [
    "depressive.head()"
   ]
  },
  {
   "cell_type": "code",
   "execution_count": 17,
   "metadata": {},
   "outputs": [
    {
     "data": {
      "text/html": [
       "<div>\n",
       "<style scoped>\n",
       "    .dataframe tbody tr th:only-of-type {\n",
       "        vertical-align: middle;\n",
       "    }\n",
       "\n",
       "    .dataframe tbody tr th {\n",
       "        vertical-align: top;\n",
       "    }\n",
       "\n",
       "    .dataframe thead th {\n",
       "        text-align: right;\n",
       "    }\n",
       "</style>\n",
       "<table border=\"1\" class=\"dataframe\">\n",
       "  <thead>\n",
       "    <tr style=\"text-align: right;\">\n",
       "      <th></th>\n",
       "      <th>ids</th>\n",
       "      <th>time</th>\n",
       "      <th>tweet_text</th>\n",
       "      <th>tag</th>\n",
       "    </tr>\n",
       "  </thead>\n",
       "  <tbody>\n",
       "    <tr>\n",
       "      <th>0</th>\n",
       "      <td>1.390000e+18</td>\n",
       "      <td>30-04-2021 21:41</td>\n",
       "      <td>Yes just fancied it Its blissful</td>\n",
       "      <td>1</td>\n",
       "    </tr>\n",
       "    <tr>\n",
       "      <th>1</th>\n",
       "      <td>1.390000e+18</td>\n",
       "      <td>30-04-2021 21:40</td>\n",
       "      <td>Great Relief and Blissful As Bobde out its Gar...</td>\n",
       "      <td>1</td>\n",
       "    </tr>\n",
       "    <tr>\n",
       "      <th>2</th>\n",
       "      <td>1.390000e+18</td>\n",
       "      <td>30-04-2021 21:36</td>\n",
       "      <td>My parents did register to stand a better chan...</td>\n",
       "      <td>0</td>\n",
       "    </tr>\n",
       "    <tr>\n",
       "      <th>3</th>\n",
       "      <td>1.390000e+18</td>\n",
       "      <td>30-04-2021 21:36</td>\n",
       "      <td>Writing a ship I genuinely love has inverted m...</td>\n",
       "      <td>1</td>\n",
       "    </tr>\n",
       "    <tr>\n",
       "      <th>4</th>\n",
       "      <td>1.390000e+18</td>\n",
       "      <td>30-04-2021 21:35</td>\n",
       "      <td>this might help you</td>\n",
       "      <td>1</td>\n",
       "    </tr>\n",
       "  </tbody>\n",
       "</table>\n",
       "</div>"
      ],
      "text/plain": [
       "            ids              time  \\\n",
       "0  1.390000e+18  30-04-2021 21:41   \n",
       "1  1.390000e+18  30-04-2021 21:40   \n",
       "2  1.390000e+18  30-04-2021 21:36   \n",
       "3  1.390000e+18  30-04-2021 21:36   \n",
       "4  1.390000e+18  30-04-2021 21:35   \n",
       "\n",
       "                                          tweet_text  tag  \n",
       "0                   Yes just fancied it Its blissful    1  \n",
       "1  Great Relief and Blissful As Bobde out its Gar...    1  \n",
       "2  My parents did register to stand a better chan...    0  \n",
       "3  Writing a ship I genuinely love has inverted m...    1  \n",
       "4                                this might help you    1  "
      ]
     },
     "execution_count": 17,
     "metadata": {},
     "output_type": "execute_result"
    }
   ],
   "source": [
    "normal.head()"
   ]
  },
  {
   "cell_type": "code",
   "execution_count": 18,
   "metadata": {},
   "outputs": [
    {
     "name": "stdout",
     "output_type": "stream",
     "text": [
      "(array([], dtype=int64), array([], dtype=int64))\n"
     ]
    }
   ],
   "source": [
    "# df_tweet_tag = df_tweet_tag.dropna(how='any') \n",
    "print(np.where(depressive.applymap(lambda x: x == '')))\n",
    "# print(np.where(pd.isnull(df_tweet_tag)))\n",
    "#print(np.where(pd.isnull(depressive)))"
   ]
  },
  {
   "cell_type": "code",
   "execution_count": 19,
   "metadata": {},
   "outputs": [],
   "source": [
    "final_dataset = depressive.append(normal)"
   ]
  },
  {
   "cell_type": "code",
   "execution_count": 20,
   "metadata": {},
   "outputs": [
    {
     "data": {
      "text/html": [
       "<div>\n",
       "<style scoped>\n",
       "    .dataframe tbody tr th:only-of-type {\n",
       "        vertical-align: middle;\n",
       "    }\n",
       "\n",
       "    .dataframe tbody tr th {\n",
       "        vertical-align: top;\n",
       "    }\n",
       "\n",
       "    .dataframe thead th {\n",
       "        text-align: right;\n",
       "    }\n",
       "</style>\n",
       "<table border=\"1\" class=\"dataframe\">\n",
       "  <thead>\n",
       "    <tr style=\"text-align: right;\">\n",
       "      <th></th>\n",
       "      <th>ids</th>\n",
       "      <th>time</th>\n",
       "      <th>tweet_text</th>\n",
       "      <th>tag</th>\n",
       "    </tr>\n",
       "  </thead>\n",
       "  <tbody>\n",
       "    <tr>\n",
       "      <th>0</th>\n",
       "      <td>1.388080e+18</td>\n",
       "      <td>30-04-2021 10:31</td>\n",
       "      <td>am i mentally ill or is wearing this hair tie ...</td>\n",
       "      <td>0</td>\n",
       "    </tr>\n",
       "    <tr>\n",
       "      <th>1</th>\n",
       "      <td>1.388080e+18</td>\n",
       "      <td>30-04-2021 10:31</td>\n",
       "      <td>Bath Salts are used to treat mental and physic...</td>\n",
       "      <td>0</td>\n",
       "    </tr>\n",
       "    <tr>\n",
       "      <th>2</th>\n",
       "      <td>1.388080e+18</td>\n",
       "      <td>30-04-2021 10:30</td>\n",
       "      <td>Insomnia and Anxiety really pulled up and beat...</td>\n",
       "      <td>0</td>\n",
       "    </tr>\n",
       "    <tr>\n",
       "      <th>3</th>\n",
       "      <td>1.388080e+18</td>\n",
       "      <td>30-04-2021 10:30</td>\n",
       "      <td>hab leider n social anxiety</td>\n",
       "      <td>0</td>\n",
       "    </tr>\n",
       "    <tr>\n",
       "      <th>4</th>\n",
       "      <td>1.388080e+18</td>\n",
       "      <td>30-04-2021 10:30</td>\n",
       "      <td>I go to the tip yesterday after my jolly to IK...</td>\n",
       "      <td>0</td>\n",
       "    </tr>\n",
       "  </tbody>\n",
       "</table>\n",
       "</div>"
      ],
      "text/plain": [
       "            ids              time  \\\n",
       "0  1.388080e+18  30-04-2021 10:31   \n",
       "1  1.388080e+18  30-04-2021 10:31   \n",
       "2  1.388080e+18  30-04-2021 10:30   \n",
       "3  1.388080e+18  30-04-2021 10:30   \n",
       "4  1.388080e+18  30-04-2021 10:30   \n",
       "\n",
       "                                          tweet_text  tag  \n",
       "0  am i mentally ill or is wearing this hair tie ...    0  \n",
       "1  Bath Salts are used to treat mental and physic...    0  \n",
       "2  Insomnia and Anxiety really pulled up and beat...    0  \n",
       "3                        hab leider n social anxiety    0  \n",
       "4  I go to the tip yesterday after my jolly to IK...    0  "
      ]
     },
     "execution_count": 20,
     "metadata": {},
     "output_type": "execute_result"
    }
   ],
   "source": [
    "final_dataset.head()"
   ]
  },
  {
   "cell_type": "code",
   "execution_count": 21,
   "metadata": {},
   "outputs": [],
   "source": [
    "final_dataset = final_dataset.astype(str).apply(lambda x: x.str.encode('ascii', 'ignore').str.decode('ascii'))"
   ]
  },
  {
   "cell_type": "code",
   "execution_count": 22,
   "metadata": {},
   "outputs": [
    {
     "data": {
      "text/plain": [
       "ids                                                 1.38808e+18\n",
       "time                                           30-04-2021 10:30\n",
       "tweet_text    I have not been present recently I am off work...\n",
       "tag                                                           0\n",
       "Name: 10, dtype: object"
      ]
     },
     "execution_count": 22,
     "metadata": {},
     "output_type": "execute_result"
    }
   ],
   "source": [
    "final_dataset.iloc[10]"
   ]
  },
  {
   "cell_type": "code",
   "execution_count": 23,
   "metadata": {},
   "outputs": [],
   "source": [
    "final_dataset = final_dataset.sample(frac=1)"
   ]
  },
  {
   "cell_type": "code",
   "execution_count": 24,
   "metadata": {},
   "outputs": [],
   "source": [
    "final_dataset.to_csv('final_dataset.csv', index=False, encoding='utf-8')"
   ]
  },
  {
   "cell_type": "code",
   "execution_count": null,
   "metadata": {},
   "outputs": [],
   "source": []
  },
  {
   "cell_type": "code",
   "execution_count": 25,
   "metadata": {},
   "outputs": [
    {
     "name": "stdout",
     "output_type": "stream",
     "text": [
      "depressive file length : 7465\n",
      "normal file length : 9056\n",
      "final dataset file length : 16521\n",
      "final dataset after combined length : 16521\n"
     ]
    }
   ],
   "source": [
    "#checking\n",
    "print(\"depressive file length :\",len(depressive))\n",
    "print(\"normal file length :\",len(normal))\n",
    "print(\"final dataset file length :\",len(depressive)+len(normal))\n",
    "print(\"final dataset after combined length :\" ,len(final_dataset))"
   ]
  },
  {
   "cell_type": "code",
   "execution_count": null,
   "metadata": {},
   "outputs": [],
   "source": []
  },
  {
   "cell_type": "code",
   "execution_count": null,
   "metadata": {},
   "outputs": [],
   "source": []
  },
  {
   "cell_type": "code",
   "execution_count": null,
   "metadata": {},
   "outputs": [],
   "source": []
  }
 ],
 "metadata": {
  "kernelspec": {
   "display_name": "Python 3",
   "language": "python",
   "name": "python3"
  },
  "language_info": {
   "codemirror_mode": {
    "name": "ipython",
    "version": 3
   },
   "file_extension": ".py",
   "mimetype": "text/x-python",
   "name": "python",
   "nbconvert_exporter": "python",
   "pygments_lexer": "ipython3",
   "version": "3.8.8"
  }
 },
 "nbformat": 4,
 "nbformat_minor": 4
}
